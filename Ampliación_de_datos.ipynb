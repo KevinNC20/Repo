{
  "nbformat": 4,
  "nbformat_minor": 0,
  "metadata": {
    "colab": {
      "name": "Ampliación de datos ",
      "provenance": []
    },
    "kernelspec": {
      "name": "python3",
      "display_name": "Python 3"
    }
  },
  "cells": [
    {
      "cell_type": "markdown",
      "metadata": {
        "id": "EJgmbX_ZBJbE"
      },
      "source": [
        "Googletrans utiliza la API Ajax de Google Translate para la detección y \n",
        "\n",
        "*   List item\n",
        "*   List item\n",
        "\n",
        "traducción de idiomas.\n",
        "\n",
        "Los parámetros clave para el método translate () son:\n",
        "\n",
        "src: idioma de origen. este parámetro es opcional ya que googletrans lo detectará.\n",
        "\n",
        "dest: idioma de destino. Parámetro obligatorio.\n",
        "\n",
        "text: el texto que se va a traducir del idioma de origen al idioma de destino. Parámetro obligatorio.\n",
        "\n",
        "Al utilizar este metodo lo que ocurre es una retraduccion, pasamos del idioma original a un idioma destino y luego regresamos al original, durante esta retrotraducción, hay un ligero cambio en la oración entre el texto original y el texto retrotraducido, pero el significado general de la oración aún se conserva.\n",
        "\n",
        "Los idiomas soportados se pueden consultar en https://cloud.google.com/translate/docs/languages?hl=es\n",
        "\n",
        "Para obtener los mejores resultados se recomienda hacer algunas pruebas con los idiomas, si el lenguaje destino es muy similar la traduccion no pierde informacion, sin embargo se puede tener el problema de que la traduccion sea demasiado literal, esto se vuelve un poco un problema de prueba y error.\n",
        "\n",
        "Algunos ejemplos de idiomas:\n",
        "\n",
        "Afrikáans 'af'\n",
        "\n",
        "Chino (simplificado) 'zh-CN o zh'\n",
        "\n",
        "Esperanto 'eo'\n",
        "\n",
        "Japonés 'ja'\n",
        "\n",
        "Latín 'la'\n",
        "\n",
        "Español 'es'\n",
        "Turcomano 'tk'\n",
        "Yiddish 'yi'\n",
        "\n",
        "Zulú 'zu'"
      ]
    },
    {
      "cell_type": "code",
      "metadata": {
        "id": "gJAgqngjApPl",
        "outputId": "b17d55aa-363f-4cfc-e00e-1bfb1e025983",
        "colab": {
          "base_uri": "https://localhost:8080/",
          "height": 292
        }
      },
      "source": [
        "!pip install googletrans"
      ],
      "execution_count": 9,
      "outputs": [
        {
          "output_type": "stream",
          "text": [
            "Requirement already satisfied: googletrans in /usr/local/lib/python3.6/dist-packages (3.0.0)\n",
            "Requirement already satisfied: httpx==0.13.3 in /usr/local/lib/python3.6/dist-packages (from googletrans) (0.13.3)\n",
            "Requirement already satisfied: hstspreload in /usr/local/lib/python3.6/dist-packages (from httpx==0.13.3->googletrans) (2020.10.20)\n",
            "Requirement already satisfied: sniffio in /usr/local/lib/python3.6/dist-packages (from httpx==0.13.3->googletrans) (1.2.0)\n",
            "Requirement already satisfied: chardet==3.* in /usr/local/lib/python3.6/dist-packages (from httpx==0.13.3->googletrans) (3.0.4)\n",
            "Requirement already satisfied: httpcore==0.9.* in /usr/local/lib/python3.6/dist-packages (from httpx==0.13.3->googletrans) (0.9.1)\n",
            "Requirement already satisfied: certifi in /usr/local/lib/python3.6/dist-packages (from httpx==0.13.3->googletrans) (2020.6.20)\n",
            "Requirement already satisfied: idna==2.* in /usr/local/lib/python3.6/dist-packages (from httpx==0.13.3->googletrans) (2.10)\n",
            "Requirement already satisfied: rfc3986<2,>=1.3 in /usr/local/lib/python3.6/dist-packages (from httpx==0.13.3->googletrans) (1.4.0)\n",
            "Requirement already satisfied: contextvars>=2.1; python_version < \"3.7\" in /usr/local/lib/python3.6/dist-packages (from sniffio->httpx==0.13.3->googletrans) (2.4)\n",
            "Requirement already satisfied: h11<0.10,>=0.8 in /usr/local/lib/python3.6/dist-packages (from httpcore==0.9.*->httpx==0.13.3->googletrans) (0.9.0)\n",
            "Requirement already satisfied: h2==3.* in /usr/local/lib/python3.6/dist-packages (from httpcore==0.9.*->httpx==0.13.3->googletrans) (3.2.0)\n",
            "Requirement already satisfied: immutables>=0.9 in /usr/local/lib/python3.6/dist-packages (from contextvars>=2.1; python_version < \"3.7\"->sniffio->httpx==0.13.3->googletrans) (0.14)\n",
            "Requirement already satisfied: hpack<4,>=3.0 in /usr/local/lib/python3.6/dist-packages (from h2==3.*->httpcore==0.9.*->httpx==0.13.3->googletrans) (3.0.0)\n",
            "Requirement already satisfied: hyperframe<6,>=5.2.0 in /usr/local/lib/python3.6/dist-packages (from h2==3.*->httpcore==0.9.*->httpx==0.13.3->googletrans) (5.2.0)\n"
          ],
          "name": "stdout"
        }
      ]
    },
    {
      "cell_type": "code",
      "metadata": {
        "id": "urrNgmSXA0Z8"
      },
      "source": [
        "from googletrans import Translator\n",
        "abc = Translator()"
      ],
      "execution_count": 10,
      "outputs": []
    },
    {
      "cell_type": "code",
      "metadata": {
        "id": "qvKKpqrfBU2M",
        "outputId": "9a11f8df-3b02-4bd4-9213-a0ced677ce9c",
        "colab": {
          "base_uri": "https://localhost:8080/",
          "height": 68
        }
      },
      "source": [
        "text_org=\"¿Qué tipos de números usamos?\"\n",
        "text_trans = abc.translate(text=text_org, dest='sq').text\n",
        "final=abc.translate(text=text_trans, dest='es').text\n",
        "print(text_org)\n",
        "print(text_trans)\n",
        "print(final)"
      ],
      "execution_count": 13,
      "outputs": [
        {
          "output_type": "stream",
          "text": [
            "¿Qué tipos de números usamos?\n",
            "Çfarë llojesh numrash përdorim?\n",
            "¿Qué tipo de números usamos?\n"
          ],
          "name": "stdout"
        }
      ]
    },
    {
      "cell_type": "code",
      "metadata": {
        "id": "wSMi_NIVWjkq"
      },
      "source": [
        ""
      ],
      "execution_count": null,
      "outputs": []
    }
  ]
}